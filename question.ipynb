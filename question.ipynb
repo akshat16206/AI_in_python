{
  "nbformat": 4,
  "nbformat_minor": 0,
  "metadata": {
    "colab": {
      "provenance": [],
      "authorship_tag": "ABX9TyNvnMSeYeivh7RNeb8mZK9v",
      "include_colab_link": true
    },
    "kernelspec": {
      "name": "python3",
      "display_name": "Python 3"
    },
    "language_info": {
      "name": "python"
    }
  },
  "cells": [
    {
      "cell_type": "markdown",
      "metadata": {
        "id": "view-in-github",
        "colab_type": "text"
      },
      "source": [
        "<a href=\"https://colab.research.google.com/github/akshat16206/AI_in_python/blob/main/question.ipynb\" target=\"_parent\"><img src=\"https://colab.research.google.com/assets/colab-badge.svg\" alt=\"Open In Colab\"/></a>"
      ]
    },
    {
      "cell_type": "code",
      "execution_count": null,
      "metadata": {
        "id": "4nIkGoqDAmoK"
      },
      "outputs": [],
      "source": [
        "'''\n",
        "you are given a variable date_string containing a date in format \"YYYY-MM-DD\"\n",
        "write a is_leap_year(date_string) that returns True f the year n the date is a leap year otherwise false\n",
        "rule 1: it should be divisble by 4\n",
        "rule 2: if it sis divisble by 10 then it also should be divisble by 400\n",
        "'''"
      ]
    },
    {
      "cell_type": "code",
      "source": [
        "date_string = \"2024-12-02\"\n",
        "year = 0\n",
        "def is_leap_year(date_string):\n",
        "  year = int(date_string[0:4]) # year in interger format\n",
        "  if(year%4==0 and year%100!=0):\n",
        "    return True\n",
        "  elif(year%400==0):\n",
        "    return True\n",
        "  else:\n",
        "    return False\n",
        "\n",
        "is_leap_year(date_string)\n"
      ],
      "metadata": {
        "colab": {
          "base_uri": "https://localhost:8080/"
        },
        "id": "-F1MrvuwByMN",
        "outputId": "5dc0c198-df66-4c60-f628-f21f5fe4a8f7"
      },
      "execution_count": 6,
      "outputs": [
        {
          "output_type": "execute_result",
          "data": {
            "text/plain": [
              "True"
            ]
          },
          "metadata": {},
          "execution_count": 6
        }
      ]
    },
    {
      "cell_type": "code",
      "source": [
        "'''\n",
        "you have a list numbers containing integers.\n",
        "write a function find_missing_number(numbers) that finds he missing number in the list\n",
        "the list contain all the intgers from 1 to n except for one missing number.\n",
        "assume the list is sorted\n",
        "'''\n",
        "#missing no. = extected sum - actual sum\n",
        "#expected sum = n(n+1)/2\n",
        "number = [1,2,3,4,5,6,7,9]\n",
        "\n",
        "expected_sum=0\n",
        "def find_missing_number(number):\n",
        "  n = 1+len(number)\n",
        "  actual_sum=0\n",
        "  expected_sum = (n*(n+1))/2\n",
        "\n",
        "  for i in range(len(number)):\n",
        "    actual_sum = actual_sum+number[i]\n",
        "\n",
        "  missing_number = expected_sum-actual_sum\n",
        "  return missing_number\n",
        "\n",
        "print(find_missing_number(number))\n",
        "\n",
        "\n"
      ],
      "metadata": {
        "colab": {
          "base_uri": "https://localhost:8080/"
        },
        "id": "T8uVa7x0Cfq8",
        "outputId": "dbfe200a-6ef0-4fda-bb4d-a10c2c2f65ff"
      },
      "execution_count": 14,
      "outputs": [
        {
          "output_type": "stream",
          "name": "stdout",
          "text": [
            "8.0\n"
          ]
        }
      ]
    },
    {
      "cell_type": "code",
      "source": [],
      "metadata": {
        "id": "2yNaBTAqFQLZ"
      },
      "execution_count": null,
      "outputs": []
    }
  ]
}