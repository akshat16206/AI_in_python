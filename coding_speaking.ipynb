{
  "nbformat": 4,
  "nbformat_minor": 0,
  "metadata": {
    "colab": {
      "provenance": [],
      "authorship_tag": "ABX9TyP9UiF/JtEfwGFDKcZpD1/t",
      "include_colab_link": true
    },
    "kernelspec": {
      "name": "python3",
      "display_name": "Python 3"
    },
    "language_info": {
      "name": "python"
    }
  },
  "cells": [
    {
      "cell_type": "markdown",
      "metadata": {
        "id": "view-in-github",
        "colab_type": "text"
      },
      "source": [
        "<a href=\"https://colab.research.google.com/github/akshat16206/AI_in_python/blob/main/coding_speaking.ipynb\" target=\"_parent\"><img src=\"https://colab.research.google.com/assets/colab-badge.svg\" alt=\"Open In Colab\"/></a>"
      ]
    },
    {
      "cell_type": "code",
      "execution_count": null,
      "metadata": {
        "colab": {
          "base_uri": "https://localhost:8080/"
        },
        "id": "goYzkhiTfwUH",
        "outputId": "5bf24f4d-226b-455f-d01e-1e2bb18ddcc3"
      },
      "outputs": [
        {
          "output_type": "stream",
          "name": "stdout",
          "text": [
            "hello world\n"
          ]
        }
      ],
      "source": [
        "print(\"hello world\")"
      ]
    },
    {
      "cell_type": "code",
      "source": [
        "print(\"happy learning\")"
      ],
      "metadata": {
        "colab": {
          "base_uri": "https://localhost:8080/"
        },
        "id": "yP-cHzLCkKMi",
        "outputId": "3b7e4dab-e64a-457e-e93a-dab8a4d98301"
      },
      "execution_count": null,
      "outputs": [
        {
          "output_type": "stream",
          "name": "stdout",
          "text": [
            "happy learning\n"
          ]
        }
      ]
    },
    {
      "cell_type": "code",
      "source": [
        "print('all the best')"
      ],
      "metadata": {
        "colab": {
          "base_uri": "https://localhost:8080/"
        },
        "id": "fd6NwdADkt3T",
        "outputId": "3fba39dd-c757-43a9-e50f-461d06cc68b3"
      },
      "execution_count": null,
      "outputs": [
        {
          "output_type": "stream",
          "name": "stdout",
          "text": [
            "all the best\n"
          ]
        }
      ]
    },
    {
      "cell_type": "code",
      "source": [
        "print(12345678)"
      ],
      "metadata": {
        "colab": {
          "base_uri": "https://localhost:8080/"
        },
        "id": "LAm-QmlUk5zH",
        "outputId": "42caff60-d22a-4bc9-db96-8fc6d54cc15e"
      },
      "execution_count": null,
      "outputs": [
        {
          "output_type": "stream",
          "name": "stdout",
          "text": [
            "12345678\n"
          ]
        }
      ]
    },
    {
      "cell_type": "code",
      "source": [
        "print(138923675987256)"
      ],
      "metadata": {
        "colab": {
          "base_uri": "https://localhost:8080/"
        },
        "id": "QPg7Yb5ek9Ee",
        "outputId": "a00873ff-1549-465b-d6b1-28e87ab2dffc"
      },
      "execution_count": null,
      "outputs": [
        {
          "output_type": "stream",
          "name": "stdout",
          "text": [
            "138923675987256\n"
          ]
        }
      ]
    },
    {
      "cell_type": "code",
      "source": [
        "print(1,2,3,4)"
      ],
      "metadata": {
        "colab": {
          "base_uri": "https://localhost:8080/"
        },
        "id": "s3PbOa5RlDOe",
        "outputId": "dc209301-6f1c-4044-f421-5a5bd410bb46"
      },
      "execution_count": null,
      "outputs": [
        {
          "output_type": "stream",
          "name": "stdout",
          "text": [
            "1 2 3 4\n"
          ]
        }
      ]
    },
    {
      "cell_type": "code",
      "source": [
        "print(\"all the best\",\"hello world\",\"my name is akshat gupta\")"
      ],
      "metadata": {
        "colab": {
          "base_uri": "https://localhost:8080/"
        },
        "id": "OZMr6mvplIMc",
        "outputId": "8ab0c49f-ceb9-46c1-aa37-cd8d65162480"
      },
      "execution_count": null,
      "outputs": [
        {
          "output_type": "stream",
          "name": "stdout",
          "text": [
            "all the best hello world my name is akshat gupta\n"
          ]
        }
      ]
    },
    {
      "cell_type": "code",
      "source": [
        "print(12,\"all the best\")"
      ],
      "metadata": {
        "colab": {
          "base_uri": "https://localhost:8080/"
        },
        "id": "ov8MBm3clbel",
        "outputId": "0e3481a7-d450-4fe9-f806-9304412d8946"
      },
      "execution_count": null,
      "outputs": [
        {
          "output_type": "stream",
          "name": "stdout",
          "text": [
            "12 all the best\n"
          ]
        }
      ]
    },
    {
      "cell_type": "code",
      "source": [
        "#this is the comment\n",
        "print(\"hello world\")"
      ],
      "metadata": {
        "colab": {
          "base_uri": "https://localhost:8080/"
        },
        "id": "GS68jY3Olge4",
        "outputId": "e908cc55-dcff-4539-bae9-c1e7fec8b8cd"
      },
      "execution_count": null,
      "outputs": [
        {
          "output_type": "stream",
          "name": "stdout",
          "text": [
            "hello world\n"
          ]
        }
      ]
    },
    {
      "cell_type": "code",
      "source": [
        "#variables\n",
        "x = 12\n",
        "y = 45\n",
        "print(x,y)"
      ],
      "metadata": {
        "colab": {
          "base_uri": "https://localhost:8080/"
        },
        "id": "HXhTGpXemkRR",
        "outputId": "9f3a2a56-5765-413c-f9c3-0da9a55bbdd9"
      },
      "execution_count": null,
      "outputs": [
        {
          "output_type": "stream",
          "name": "stdout",
          "text": [
            "12 45\n"
          ]
        }
      ]
    },
    {
      "cell_type": "code",
      "source": [
        "#naming convention\n",
        "#rule 1: allowed character : A-Z,a-z,0-9,_\n",
        "#rule 2: name has to start with charatcter or (_)underscore\n",
        "#rule 3: names are case sensitive\n",
        "#rule 4; names cannot be a keyword\n",
        "\n",
        "var1 = 14\n",
        "print(var1)"
      ],
      "metadata": {
        "colab": {
          "base_uri": "https://localhost:8080/"
        },
        "id": "uq8hAZFkmvZf",
        "outputId": "a56bd799-7193-40e1-a819-98c4b723a902"
      },
      "execution_count": null,
      "outputs": [
        {
          "output_type": "stream",
          "name": "stdout",
          "text": [
            "14\n"
          ]
        }
      ]
    },
    {
      "cell_type": "code",
      "source": [
        "var1 = \"hello\" #string\n",
        "print(var1)"
      ],
      "metadata": {
        "colab": {
          "base_uri": "https://localhost:8080/"
        },
        "id": "gcGWX6UZp2Us",
        "outputId": "dbad14d2-dfab-43b6-93cd-95e270c4c2f0"
      },
      "execution_count": null,
      "outputs": [
        {
          "output_type": "stream",
          "name": "stdout",
          "text": [
            "hello\n"
          ]
        }
      ]
    },
    {
      "cell_type": "code",
      "source": [
        "var1 = 12.124 #float\n",
        "print(var1)"
      ],
      "metadata": {
        "colab": {
          "base_uri": "https://localhost:8080/"
        },
        "id": "XjzNp1m2p8k3",
        "outputId": "89e38fdb-13bf-4bc6-bbf8-ef6660fe2b4a"
      },
      "execution_count": null,
      "outputs": [
        {
          "output_type": "stream",
          "name": "stdout",
          "text": [
            "12.124\n"
          ]
        }
      ]
    },
    {
      "cell_type": "code",
      "source": [
        "var1 = -112.34 #negative float\n",
        "print(var1)"
      ],
      "metadata": {
        "colab": {
          "base_uri": "https://localhost:8080/"
        },
        "id": "CWRmFVjIp7j1",
        "outputId": "385b78b1-fa23-4e2e-85bd-8d4477be1c0c"
      },
      "execution_count": null,
      "outputs": [
        {
          "output_type": "stream",
          "name": "stdout",
          "text": [
            "-112.34\n"
          ]
        }
      ]
    },
    {
      "cell_type": "code",
      "source": [
        "var1 = False #boolean\n",
        "print(var1)"
      ],
      "metadata": {
        "colab": {
          "base_uri": "https://localhost:8080/"
        },
        "id": "HR-R5buSqHvR",
        "outputId": "3798fbaa-061e-43bd-8bda-795feadb2e52"
      },
      "execution_count": null,
      "outputs": [
        {
          "output_type": "stream",
          "name": "stdout",
          "text": [
            "False\n"
          ]
        }
      ]
    },
    {
      "cell_type": "code",
      "source": [
        "var1 = \"hello\" #string\n",
        "print(var1)\n",
        "var2 = 12.124 #float\n",
        "print(var2)\n",
        "var3 = -112 #negative float\n",
        "print(var3)\n",
        "var4 = False #boolean\n",
        "print(var4)\n",
        "\n",
        "print(type(var1))\n",
        "print(type(var2))\n",
        "print(type(var3))\n",
        "print(type(var4))"
      ],
      "metadata": {
        "colab": {
          "base_uri": "https://localhost:8080/"
        },
        "id": "KL3FkwLVqR50",
        "outputId": "a5a68cb6-dc69-47a0-88a6-03f44f6dde16"
      },
      "execution_count": null,
      "outputs": [
        {
          "output_type": "stream",
          "name": "stdout",
          "text": [
            "hello\n",
            "12.124\n",
            "-112\n",
            "False\n",
            "<class 'str'>\n",
            "<class 'float'>\n",
            "<class 'int'>\n",
            "<class 'bool'>\n"
          ]
        }
      ]
    },
    {
      "cell_type": "code",
      "source": [
        "#strings: set of character inside double or single quototation mark\n",
        "\n",
        "var1 = \"happy learning\"\n",
        "print(var1[6:11])\n",
        "print(var1[:5])\n",
        "print(var1[6:])"
      ],
      "metadata": {
        "colab": {
          "base_uri": "https://localhost:8080/"
        },
        "id": "I-tB3p-zq441",
        "outputId": "4463524f-9fe7-431d-c85d-73673eb443ee"
      },
      "execution_count": null,
      "outputs": [
        {
          "output_type": "stream",
          "name": "stdout",
          "text": [
            "learn\n",
            "happy\n",
            "learning\n"
          ]
        }
      ]
    },
    {
      "cell_type": "code",
      "source": [
        "print(var1[6::2]) #skips e,r,i,n,g and printed l a n n (increment by 2 index)"
      ],
      "metadata": {
        "colab": {
          "base_uri": "https://localhost:8080/"
        },
        "id": "k6TrvDazwi-e",
        "outputId": "03265ceb-55b1-49b4-e5f4-4bd6c353a8ea"
      },
      "execution_count": null,
      "outputs": [
        {
          "output_type": "stream",
          "name": "stdout",
          "text": [
            "lann\n"
          ]
        }
      ]
    },
    {
      "cell_type": "code",
      "source": [
        "# operation on numbers :airthmetic\n",
        "#+ add\n",
        "#- sub\n",
        "#* multi\n",
        "#% modulus\n",
        "#/ division\n",
        "#// floor division : it gives divisior\n",
        "#** exponential : 5**3 means 5 to the power 3 which is 125.\n",
        "\n",
        "#number = quotoient * divisior + reminder\n",
        "\n",
        "\n",
        "var1 = 5\n",
        "var2 = 3\n",
        "print(var1+var2)\n",
        "print(var1-var2)\n",
        "print(var1*var2)\n",
        "print(var1/var2)\n",
        "print(var1%var2)\n",
        "print(var1//var2)\n",
        "print(var1**var2)"
      ],
      "metadata": {
        "colab": {
          "base_uri": "https://localhost:8080/"
        },
        "id": "CBZfC0vWxVSN",
        "outputId": "c7f2524f-1844-40f0-a89a-fd0d2be194c6"
      },
      "execution_count": null,
      "outputs": [
        {
          "output_type": "stream",
          "name": "stdout",
          "text": [
            "8\n",
            "2\n",
            "15\n",
            "1.6666666666666667\n",
            "2\n",
            "1\n",
            "125\n"
          ]
        }
      ]
    },
    {
      "cell_type": "code",
      "source": [
        "-2 #uniary minus\n",
        "x = 3\n",
        "y = 10\n",
        "z = x+y\n",
        "print(z)"
      ],
      "metadata": {
        "colab": {
          "base_uri": "https://localhost:8080/"
        },
        "id": "eENQljAKzqVn",
        "outputId": "95402437-406b-4cbc-c7b1-de2745ea4c31"
      },
      "execution_count": null,
      "outputs": [
        {
          "output_type": "stream",
          "name": "stdout",
          "text": [
            "13\n"
          ]
        }
      ]
    },
    {
      "cell_type": "code",
      "source": [
        "#relational operator\n",
        "# <\n",
        "# >\n",
        "# <=\n",
        "# >=\n",
        "# ==\n",
        "# !=\n",
        "\n",
        "var1 = 3\n",
        "var2 = 3\n",
        "print(var1<var2)\n",
        "print(var1>var2)\n",
        "print(var1<=var2)\n",
        "print(var1>=var2)\n",
        "print(var1==var2)\n",
        "print(var1!=var2)"
      ],
      "metadata": {
        "colab": {
          "base_uri": "https://localhost:8080/"
        },
        "id": "KX3ZFNuy0CGc",
        "outputId": "95e90b5d-9dfe-4a7e-e764-52e632b21402"
      },
      "execution_count": null,
      "outputs": [
        {
          "output_type": "stream",
          "name": "stdout",
          "text": [
            "False\n",
            "False\n",
            "True\n",
            "True\n",
            "True\n",
            "False\n"
          ]
        }
      ]
    },
    {
      "cell_type": "code",
      "source": [
        "#logical operator\n",
        "#not(!) : negation\n",
        "#and(&&) : logical conjunction\n",
        "#or(||) : logical disjunction\n",
        "x = True\n",
        "x = False\n",
        "print(x and y)\n",
        "print(x or y)\n",
        "print(not x)"
      ],
      "metadata": {
        "colab": {
          "base_uri": "https://localhost:8080/"
        },
        "id": "wz-ulV-H0mPs",
        "outputId": "4b518d01-244e-4512-870d-e7cf785ca1d6"
      },
      "execution_count": null,
      "outputs": [
        {
          "output_type": "stream",
          "name": "stdout",
          "text": [
            "False\n",
            "10\n",
            "True\n"
          ]
        }
      ]
    },
    {
      "cell_type": "code",
      "source": [
        "var1 = \"happy learning\"\n",
        "print(var1[-8:-3])"
      ],
      "metadata": {
        "colab": {
          "base_uri": "https://localhost:8080/"
        },
        "id": "smlv82zpdQ4i",
        "outputId": "3b44692f-7cd0-42ff-8e79-7dafc5fecc7c"
      },
      "execution_count": null,
      "outputs": [
        {
          "output_type": "stream",
          "name": "stdout",
          "text": [
            "learn\n"
          ]
        }
      ]
    },
    {
      "cell_type": "code",
      "source": [
        "var1 = \"python programming\"\n",
        "print(var1[-13:-18:-1]) #getting the reverse of the string\n",
        "#so here you are starting at -13 and going till -18 in the direction of -1 which is reversed"
      ],
      "metadata": {
        "colab": {
          "base_uri": "https://localhost:8080/"
        },
        "id": "gB8lnNeGfpJf",
        "outputId": "dfd50797-2b31-4f75-ca37-7e61967e5d71"
      },
      "execution_count": null,
      "outputs": [
        {
          "output_type": "stream",
          "name": "stdout",
          "text": [
            "nohty\n"
          ]
        }
      ]
    },
    {
      "cell_type": "code",
      "source": [
        "var2 = \"happy learning\"\n",
        "print(var2[1:5])\n",
        "print(var2[:-5])\n",
        "print(var2[::2])\n",
        "print(var2[-1:-9:-1])"
      ],
      "metadata": {
        "colab": {
          "base_uri": "https://localhost:8080/"
        },
        "id": "fanpKdx5g6-x",
        "outputId": "db50611d-2a83-494a-c475-3d3a5127e0fd"
      },
      "execution_count": null,
      "outputs": [
        {
          "output_type": "stream",
          "name": "stdout",
          "text": [
            "appy\n",
            "happy lea\n",
            "hpylann\n",
            "gninrael\n"
          ]
        }
      ]
    },
    {
      "cell_type": "code",
      "source": [
        "#list : it is a collection , which are ordered , changable and allows duplicates\n",
        "var1 = [1,2.2,-3,\"hi\",True]\n",
        "print(type(var1[0]))\n",
        "print(type(var1[1]))\n",
        "print(type(var1[2]))\n",
        "print(type(var1[3]))\n",
        "print(type(var1[4]))"
      ],
      "metadata": {
        "colab": {
          "base_uri": "https://localhost:8080/"
        },
        "id": "4_1jMUKBhrWk",
        "outputId": "ac859859-6c93-427e-cf35-f92ac286cc8f"
      },
      "execution_count": null,
      "outputs": [
        {
          "output_type": "stream",
          "name": "stdout",
          "text": [
            "<class 'int'>\n",
            "<class 'float'>\n",
            "<class 'int'>\n",
            "<class 'str'>\n",
            "<class 'bool'>\n"
          ]
        }
      ]
    },
    {
      "cell_type": "code",
      "source": [
        "var1 = [1,2.2,-3,\"hi\",True]\n",
        "print(var1)\n",
        "print(type(var1))"
      ],
      "metadata": {
        "colab": {
          "base_uri": "https://localhost:8080/"
        },
        "id": "g81ymgteigAX",
        "outputId": "2fda7391-b3c2-4290-a259-e0a8421c3b1e"
      },
      "execution_count": null,
      "outputs": [
        {
          "output_type": "stream",
          "name": "stdout",
          "text": [
            "[1, 2.2, -3, 'hi', True]\n",
            "<class 'list'>\n"
          ]
        }
      ]
    },
    {
      "cell_type": "code",
      "source": [
        "var1 = [12,32,4,56]\n",
        "print(var1)\n",
        "print(var1[2])\n",
        "var1[2] = 100\n",
        "print(var1[2])\n",
        "print(var1)"
      ],
      "metadata": {
        "colab": {
          "base_uri": "https://localhost:8080/"
        },
        "id": "voXjmACZilK3",
        "outputId": "1d7585f2-f9ea-4a01-83e3-7c00400cb805"
      },
      "execution_count": null,
      "outputs": [
        {
          "output_type": "stream",
          "name": "stdout",
          "text": [
            "[12, 32, 4, 56]\n",
            "4\n",
            "100\n",
            "[12, 32, 100, 56]\n"
          ]
        }
      ]
    },
    {
      "cell_type": "code",
      "source": [
        "#append  to add a new element at the last of the list\n",
        "\n",
        "var1 = [12,14,16,20]\n",
        "print(var1)\n",
        "var1.append(100)\n",
        "print(var1)"
      ],
      "metadata": {
        "colab": {
          "base_uri": "https://localhost:8080/"
        },
        "id": "oaqjcla5QLP6",
        "outputId": "a78249f3-5e3c-46a3-cebb-4624ba5370e0"
      },
      "execution_count": null,
      "outputs": [
        {
          "output_type": "stream",
          "name": "stdout",
          "text": [
            "[12, 14, 16, 20]\n",
            "[12, 14, 16, 20, 100]\n"
          ]
        }
      ]
    },
    {
      "cell_type": "code",
      "source": [
        "#insert : to insert a element at the fixed index in the list\n",
        "var1 = [12,13,14,15]\n",
        "print(var1)\n",
        "var1.insert(2,1000) # (index,element)\n",
        "print(var1)"
      ],
      "metadata": {
        "colab": {
          "base_uri": "https://localhost:8080/"
        },
        "id": "TY6z0EYFQ0yt",
        "outputId": "0fe3919f-c67d-4550-bd4e-030997f32844"
      },
      "execution_count": null,
      "outputs": [
        {
          "output_type": "stream",
          "name": "stdout",
          "text": [
            "[12, 13, 14, 15]\n",
            "[12, 13, 1000, 14, 15]\n"
          ]
        }
      ]
    },
    {
      "cell_type": "code",
      "source": [
        "#removing the element from the list\n",
        "# removes: removes the first occurence of the list\n",
        "var1 = [12,13,14,15]\n",
        "print(var1)\n",
        "var1.remove(13) # the first occurence of 13 is at index 1\n",
        "print(var1)"
      ],
      "metadata": {
        "colab": {
          "base_uri": "https://localhost:8080/"
        },
        "id": "VeXhhtkVRXVv",
        "outputId": "ee5b065f-933e-40eb-9364-b913ef9cbd35"
      },
      "execution_count": null,
      "outputs": [
        {
          "output_type": "stream",
          "name": "stdout",
          "text": [
            "[12, 13, 14, 15]\n",
            "[12, 14, 15]\n"
          ]
        }
      ]
    },
    {
      "cell_type": "code",
      "source": [
        "# remove the element using its index\n",
        "\n",
        "var1 = [12,13,14,15]\n",
        "print(var1)\n",
        "var1.pop(2) # removes the element at index 1\n",
        "print(var1)"
      ],
      "metadata": {
        "colab": {
          "base_uri": "https://localhost:8080/"
        },
        "id": "3PHrMDJoSHN-",
        "outputId": "aa1ca202-b20b-4e46-c8d2-7eab885d14a2"
      },
      "execution_count": null,
      "outputs": [
        {
          "output_type": "stream",
          "name": "stdout",
          "text": [
            "[12, 13, 14, 15]\n",
            "[12, 13, 15]\n"
          ]
        }
      ]
    },
    {
      "cell_type": "code",
      "source": [
        "#loops\n",
        "#for loops\n",
        "for i in range(1,11):\n",
        "  print(i)\n",
        "\n"
      ],
      "metadata": {
        "colab": {
          "base_uri": "https://localhost:8080/"
        },
        "id": "YcpkzdmOSgxi",
        "outputId": "b09e668d-b34e-4e2f-9500-a96cec91ae03"
      },
      "execution_count": null,
      "outputs": [
        {
          "output_type": "stream",
          "name": "stdout",
          "text": [
            "1\n",
            "2\n",
            "3\n",
            "4\n",
            "5\n",
            "6\n",
            "7\n",
            "8\n",
            "9\n",
            "10\n"
          ]
        }
      ]
    },
    {
      "cell_type": "code",
      "source": [
        "for j in range(12,16):\n",
        "  print(\"hi\",j)\n",
        "  print(j-1)\n",
        "print(\"loop done\")"
      ],
      "metadata": {
        "colab": {
          "base_uri": "https://localhost:8080/"
        },
        "id": "QBG7F5S7bOIH",
        "outputId": "5f39fd5f-4cfe-4242-9bc0-5d4c2b4f3911"
      },
      "execution_count": null,
      "outputs": [
        {
          "output_type": "stream",
          "name": "stdout",
          "text": [
            "hi 12\n",
            "11\n",
            "hi 13\n",
            "12\n",
            "hi 14\n",
            "13\n",
            "hi 15\n",
            "14\n",
            "loop done\n"
          ]
        }
      ]
    },
    {
      "cell_type": "code",
      "source": [
        "var1 = ['apple','banana','grapes']\n",
        "for i in var1:\n",
        "  print(\"today i ate \",i)"
      ],
      "metadata": {
        "colab": {
          "base_uri": "https://localhost:8080/"
        },
        "id": "mBJZmqfNbt-4",
        "outputId": "871f6167-ef8e-47ec-af07-7ece79c9dd94"
      },
      "execution_count": null,
      "outputs": [
        {
          "output_type": "stream",
          "name": "stdout",
          "text": [
            "today i ate  apple\n",
            "today i ate  banana\n",
            "today i ate  grapes\n"
          ]
        }
      ]
    },
    {
      "cell_type": "code",
      "source": [
        "#while loop: repeat till the condition is satisfied\n",
        "\n",
        "i = 1\n",
        "while i<=10:\n",
        "  print(i)\n",
        "  i += 1\n",
        "print(\"loop done\")\n"
      ],
      "metadata": {
        "colab": {
          "base_uri": "https://localhost:8080/"
        },
        "id": "bAXy1yidArYD",
        "outputId": "8d6c6644-b656-4704-89ce-591cc73e742d"
      },
      "execution_count": null,
      "outputs": [
        {
          "output_type": "stream",
          "name": "stdout",
          "text": [
            "1\n",
            "2\n",
            "3\n",
            "4\n",
            "5\n",
            "6\n",
            "7\n",
            "8\n",
            "9\n",
            "10\n",
            "loop done\n"
          ]
        }
      ]
    },
    {
      "cell_type": "code",
      "source": [
        "#if else statement\n",
        "sugar_level = 100\n",
        "if sugar_level>120:\n",
        "  print(\"sugar level is high\")\n",
        "else:\n",
        "    print(\"sugar level is normal\")"
      ],
      "metadata": {
        "colab": {
          "base_uri": "https://localhost:8080/"
        },
        "id": "YWhO3WuJBZUN",
        "outputId": "05201275-ef56-46ba-ee45-80dffff6d1f2"
      },
      "execution_count": null,
      "outputs": [
        {
          "output_type": "stream",
          "name": "stdout",
          "text": [
            "sugar level is noemal\n"
          ]
        }
      ]
    },
    {
      "cell_type": "code",
      "source": [
        "#given the list of 5 people sugar level print the index and tell who all are having high sugar level\n",
        "sugar_level_list = [20,130,140,112,120]\n",
        "for i in range(len(sugar_level_list)): #here len is used for cal length of list\n",
        "  if sugar_level_list[i]>120:\n",
        "    print(i)\n",
        "    print(\"sugar lever is high\")\n",
        "  else:\n",
        "    print(i)\n",
        "    print(\"sugar level is normal\")\n"
      ],
      "metadata": {
        "colab": {
          "base_uri": "https://localhost:8080/"
        },
        "id": "VF5bQCiyS_6E",
        "outputId": "ccdd348c-1bbe-44c0-a088-2784129ea047"
      },
      "execution_count": null,
      "outputs": [
        {
          "output_type": "stream",
          "name": "stdout",
          "text": [
            "0\n",
            "sugar level is normal\n",
            "1\n",
            "sugar lever is high\n",
            "2\n",
            "sugar lever is high\n",
            "3\n",
            "sugar level is normal\n",
            "4\n",
            "sugar level is normal\n"
          ]
        }
      ]
    },
    {
      "cell_type": "code",
      "source": [
        " #if -elif -else statement\n",
        " var1 = 234\n",
        " if var1%2==0:\n",
        "  print(\"var1 is multiple of 2\")\n",
        " elif var1%3==0:\n",
        "  print(\"var1 is multiple of 3\")\n",
        " elif var1%5==0 :\n",
        "  print(\"var1 is multiple of 5\")\n",
        " elif var1%7==0:\n",
        "  print(\"var1 is multiple of 7\")\n",
        " elif var1%11==0 :\n",
        "  print(\"var1 is multiple of 11\")\n",
        " else:\n",
        "  print(\"var1 is not a multiple of 2,3,5,7\")\n"
      ],
      "metadata": {
        "id": "9TxSgQzzYxai",
        "colab": {
          "base_uri": "https://localhost:8080/"
        },
        "outputId": "842e8376-0d58-442c-d8e9-3a7e439a591b"
      },
      "execution_count": null,
      "outputs": [
        {
          "output_type": "stream",
          "name": "stdout",
          "text": [
            "var1 is multiple of 2\n"
          ]
        }
      ]
    },
    {
      "cell_type": "code",
      "source": [],
      "metadata": {
        "id": "66IP4Wu4iYNq"
      },
      "execution_count": null,
      "outputs": []
    }
  ]
}