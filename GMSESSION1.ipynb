{
  "nbformat": 4,
  "nbformat_minor": 0,
  "metadata": {
    "colab": {
      "provenance": [],
      "authorship_tag": "ABX9TyNyS0R3ZOZKnW9NiPNPFsQc",
      "include_colab_link": true
    },
    "kernelspec": {
      "name": "python3",
      "display_name": "Python 3"
    },
    "language_info": {
      "name": "python"
    }
  },
  "cells": [
    {
      "cell_type": "markdown",
      "metadata": {
        "id": "view-in-github",
        "colab_type": "text"
      },
      "source": [
        "<a href=\"https://colab.research.google.com/github/akshat16206/AI_in_python/blob/main/GMSESSION1.ipynb\" target=\"_parent\"><img src=\"https://colab.research.google.com/assets/colab-badge.svg\" alt=\"Open In Colab\"/></a>"
      ]
    },
    {
      "cell_type": "code",
      "execution_count": 5,
      "metadata": {
        "id": "akhAfb0zlLQU",
        "colab": {
          "base_uri": "https://localhost:8080/"
        },
        "outputId": "166fe523-837c-4e12-a68f-0c750d101e9f"
      },
      "outputs": [
        {
          "output_type": "stream",
          "name": "stdout",
          "text": [
            "0\n",
            "1\n",
            "2\n",
            "3\n",
            "4\n",
            "5\n",
            "6\n",
            "7\n",
            "8\n",
            "9\n"
          ]
        }
      ],
      "source": [
        "#basic for loop\n",
        "for i in range(10):\n",
        "  print(i)"
      ]
    },
    {
      "cell_type": "code",
      "source": [
        "import random #this will bring the book called random\n",
        "print(random.random()) #printing random number between 0 and 1"
      ],
      "metadata": {
        "colab": {
          "base_uri": "https://localhost:8080/"
        },
        "id": "ynLyKVGg02b4",
        "outputId": "cd745a7a-f2eb-4b72-9118-ff9327b140ad"
      },
      "execution_count": 42,
      "outputs": [
        {
          "output_type": "stream",
          "name": "stdout",
          "text": [
            "0.40920532744492577\n"
          ]
        }
      ]
    },
    {
      "cell_type": "code",
      "source": [
        "import time\n",
        "print(time.time())"
      ],
      "metadata": {
        "colab": {
          "base_uri": "https://localhost:8080/"
        },
        "id": "DfcjspIT193r",
        "outputId": "64a72d96-fa9c-4efe-db01-2faca1c687cf"
      },
      "execution_count": 43,
      "outputs": [
        {
          "output_type": "stream",
          "name": "stdout",
          "text": [
            "1743066458.9404657\n"
          ]
        }
      ]
    },
    {
      "cell_type": "code",
      "source": [
        "import time\n",
        "import random\n",
        "alpha = 0\n",
        "a = time.time()\n",
        "print(\"hi folks, what are you doing?\")\n",
        "for i in range(100000000):\n",
        "  alpha = alpha + random.random();\n",
        "print(alpha)\n",
        "b=time.time();\n",
        "print(b-a)"
      ],
      "metadata": {
        "colab": {
          "base_uri": "https://localhost:8080/"
        },
        "id": "2kd7MLds22py",
        "outputId": "c833e201-6d91-44e7-8cf0-cdc87c7db07f"
      },
      "execution_count": 51,
      "outputs": [
        {
          "output_type": "stream",
          "name": "stdout",
          "text": [
            "hi folks, what are you doing?\n",
            "50003962.4884721\n",
            "15.94424557685852\n"
          ]
        }
      ]
    },
    {
      "cell_type": "code",
      "source": [
        "'''\n",
        "simulate the rolling of two dice with six faces each . put the answers\n",
        "onto a list and then show the number of occurences of\n",
        "1,2,3,4,5,6,7,8,9,10,11,12\n",
        "and also plot the result\n",
        "'''\n",
        "\n",
        "import random\n",
        "import matplotlib.pyplot as plt\n",
        "\n",
        "# Number of times to roll the dice\n",
        "num_rolls = 1000\n",
        "\n",
        "# List to store the results\n",
        "results = []\n",
        "\n",
        "# Simulate dice rolls and store the sums\n",
        "for _ in range(num_rolls):\n",
        "    roll1 = random.randint(1, 6)  # Roll the first die\n",
        "    roll2 = random.randint(1, 6)  # Roll the second die\n",
        "    sum_of_rolls = roll1 + roll2  # Calculate the sum\n",
        "    results.append(sum_of_rolls)  # Add the sum to the list\n",
        "\n",
        "# Count the occurrences of each sum\n",
        "occurrences = {}\n",
        "for i in range(2, 13):  # Possible sums range from 2 to 12\n",
        "    occurrences[i] = results.count(i)\n",
        "\n",
        "# Print the occurrences\n",
        "for sum_value, count in occurrences.items():\n",
        "    print(f\"The sum {sum_value} appeared {count} times.\")\n",
        "\n",
        "# Plot the results\n",
        "plt.hist(results, bins=range(2, 14), align='left', rwidth=0.8)\n",
        "plt.xlabel('Sum of Dice')\n",
        "plt.ylabel('Frequency')\n",
        "plt.title('Dice Roll Simulation')\n",
        "plt.xticks(range(2, 13))\n",
        "plt.show()\n"
      ],
      "metadata": {
        "colab": {
          "base_uri": "https://localhost:8080/",
          "height": 668
        },
        "id": "D6Ey41uJ3djk",
        "outputId": "73fef2f4-b2d5-42f2-ed9e-3e5e229a9f10"
      },
      "execution_count": 64,
      "outputs": [
        {
          "output_type": "stream",
          "name": "stdout",
          "text": [
            "The sum 2 appeared 35 times.\n",
            "The sum 3 appeared 60 times.\n",
            "The sum 4 appeared 83 times.\n",
            "The sum 5 appeared 114 times.\n",
            "The sum 6 appeared 114 times.\n",
            "The sum 7 appeared 175 times.\n",
            "The sum 8 appeared 150 times.\n",
            "The sum 9 appeared 79 times.\n",
            "The sum 10 appeared 97 times.\n",
            "The sum 11 appeared 67 times.\n",
            "The sum 12 appeared 26 times.\n"
          ]
        },
        {
          "output_type": "display_data",
          "data": {
            "text/plain": [
              "<Figure size 640x480 with 1 Axes>"
            ],
            "image/png": "[encoded data removed]"
          },
          "metadata": {}
        }
      ]
    },
    {
      "cell_type": "code",
      "source": [
        "for i in range (5):  #use of for loop\n",
        "  print(i+1,\"Hi akshat\")"
      ],
      "metadata": {
        "colab": {
          "base_uri": "https://localhost:8080/"
        },
        "id": "pOF86ZuxL2Eh",
        "outputId": "17ab32c5-0484-40a4-d433-a70e8beb4c90"
      },
      "execution_count": 67,
      "outputs": [
        {
          "output_type": "stream",
          "name": "stdout",
          "text": [
            "1 Hi akshat\n",
            "2 Hi akshat\n",
            "3 Hi akshat\n",
            "4 Hi akshat\n",
            "5 Hi akshat\n"
          ]
        }
      ]
    },
    {
      "cell_type": "code",
      "source": [
        "#functions\n",
        "def say_hello(n):\n",
        "  for i in range(n):\n",
        "    print(\"Hello Akshat\")\n",
        "\n",
        "def say_namaste(n):\n",
        "  for j in range(n):\n",
        "    print(\"Namasthey Akshat\")\n",
        "\n",
        "say_hello(5)\n",
        "say_namaste(5)"
      ],
      "metadata": {
        "colab": {
          "base_uri": "https://localhost:8080/"
        },
        "id": "TGNX5oDBReOf",
        "outputId": "3ad5f641-560d-45eb-c496-c7e06a97fa04"
      },
      "execution_count": 116,
      "outputs": [
        {
          "output_type": "stream",
          "name": "stdout",
          "text": [
            "Hello Akshat\n",
            "Hello Akshat\n",
            "Hello Akshat\n",
            "Hello Akshat\n",
            "Hello Akshat\n",
            "Namasthey Akshat\n",
            "Namasthey Akshat\n",
            "Namasthey Akshat\n",
            "Namasthey Akshat\n",
            "Namasthey Akshat\n"
          ]
        }
      ]
    },
    {
      "cell_type": "code",
      "source": [
        "import random\n",
        "\n",
        "def mychoice(n):\n",
        "  for i in range(n):\n",
        "    a = random.random()\n",
        "    if(a<=0.50000):\n",
        "      print(\"go out for a movie\")\n",
        "    else:\n",
        "      print(\"play cricket\")\n",
        "\n",
        "mychoice(10)"
      ],
      "metadata": {
        "colab": {
          "base_uri": "https://localhost:8080/"
        },
        "id": "yxwBrq2MR9zA",
        "outputId": "cd91314b-fbfd-4379-bdd2-afb847012c21"
      },
      "execution_count": 117,
      "outputs": [
        {
          "output_type": "stream",
          "name": "stdout",
          "text": [
            "play cricket\n",
            "play cricket\n",
            "go out for a movie\n",
            "go out for a movie\n",
            "play cricket\n",
            "go out for a movie\n",
            "play cricket\n",
            "play cricket\n",
            "play cricket\n",
            "play cricket\n"
          ]
        }
      ]
    },
    {
      "cell_type": "code",
      "source": [
        "'''\n",
        "write a piece of code to simulate n number of  dice\n",
        "create a list of all ther result\n",
        "plot the answers and see the distribution\n",
        " need to create a function by roll_dice(n,trials)\n",
        " which will roll the n number of dice trial and then plot the result\n",
        " '''\n",
        "\n",
        "import random\n",
        "import matplotlib.pyplot as plt\n",
        "\n",
        "def roll_dice(n, trials):\n",
        "  \"\"\"\n",
        "  Simulates rolling 'n' dice 'trials' times and plots the distribution of results.\n",
        "\n",
        "  Args:\n",
        "    n: The number of dice to roll.\n",
        "    trials: The number of times to roll the dice.\n",
        "  \"\"\"\n",
        "\n",
        "  results = []  # Store the sum of each trial\n",
        "\n",
        "  for _ in range(trials):\n",
        "    total_sum = sum(random.randint(1, 6) for _ in range(n))  # Sum of 'n' dice rolls\n",
        "    results.append(total_sum)\n",
        "\n",
        "  # Plotting the distribution\n",
        "  plt.hist(results, bins=range(n, 6 * n + 2), align='left', rwidth=0.8)  # Adjust bins for 'n' dice\n",
        "  plt.xlabel('Sum of Dice')\n",
        "  plt.ylabel('Frequency')\n",
        "  plt.title(f'Dice Roll Simulation ({n} dice, {trials} trials)')\n",
        "  plt.xticks(range(n, 6 * n + 1))  # Adjust x-axis ticks for 'n' dice\n",
        "  plt.show()\n",
        "\n",
        "# Example usage\n",
        "roll_dice(10, 100000)  # Simulate rolling 3 dice 1000 times"
      ],
      "metadata": {
        "colab": {
          "base_uri": "https://localhost:8080/",
          "height": 472
        },
        "id": "MXESMntDT-UX",
        "outputId": "d0e3fbc1-b3e1-4cb8-9c63-850eae0c5e92"
      },
      "execution_count": 139,
      "outputs": [
        {
          "output_type": "display_data",
          "data": {
            "text/plain": [
              "<Figure size 640x480 with 1 Axes>"
            ],
            "image/png": "[encoded data removed]"
          },
          "metadata": {}
        }
      ]
    },
    {
      "cell_type": "code",
      "source": [
        "import math\n",
        "print(1000*1.12)\n",
        "print(1000*math.pow(1.06,2))\n",
        "print(1000*math.pow(1.01,12))\n",
        "a = 1/30\n",
        "b = 1/12\n",
        "c = a*b\n",
        "d=math.pow(1+c,365)\n",
        "print(1000*d)"
      ],
      "metadata": {
        "colab": {
          "base_uri": "https://localhost:8080/"
        },
        "id": "_NSEdpP6m0Yr",
        "outputId": "0e846d79-18e2-4073-8410-79fac1cc4671"
      },
      "execution_count": 148,
      "outputs": [
        {
          "output_type": "stream",
          "name": "stdout",
          "text": [
            "1120.0\n",
            "1123.6000000000001\n",
            "1126.8250301319697\n",
            "2752.4276723517705\n"
          ]
        }
      ]
    },
    {
      "cell_type": "code",
      "source": [],
      "metadata": {
        "id": "FOurkusc7sHl"
      },
      "execution_count": null,
      "outputs": []
    }
  ]
}